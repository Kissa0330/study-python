{
 "cells": [
  {
   "cell_type": "code",
   "execution_count": 1,
   "id": "633d29dc",
   "metadata": {},
   "outputs": [
    {
     "name": "stdout",
     "output_type": "stream",
     "text": [
      "hello\n"
     ]
    }
   ],
   "source": [
    "print(\"hello\")"
   ]
  },
  {
   "cell_type": "code",
   "execution_count": 1,
   "id": "d3e75cce",
   "metadata": {},
   "outputs": [
    {
     "name": "stdout",
     "output_type": "stream",
     "text": [
      "hello\n"
     ]
    }
   ],
   "source": [
    "print(\"hello\")"
   ]
  },
  {
   "cell_type": "code",
   "execution_count": 2,
   "id": "bfd75716",
   "metadata": {},
   "outputs": [
    {
     "name": "stdout",
     "output_type": "stream",
     "text": [
      "1 + 1 = 2\n",
      "10 - 7 = 3\n",
      "2 * 2 = 4\n",
      "1 / 3 = 0.3333333333333333\n",
      "5 // 3 = 1\n",
      "5 % 3 = 2\n",
      "5 ** 2 = 25\n"
     ]
    }
   ],
   "source": [
    "print('1 + 1 =', 1 + 1)\n",
    "print('10 - 7 =', 10 - 7)\n",
    "print('2 * 2 =', 2 * 2)\n",
    "print('1 / 3 =', 1 / 3)\n",
    "print('5 // 3 =', 5 // 3)\n",
    "print('5 % 3 =', 5 % 3)\n",
    "print('5 ** 2 =', 5 ** 2)"
   ]
  },
  {
   "cell_type": "code",
   "execution_count": 3,
   "id": "f2d636b7",
   "metadata": {},
   "outputs": [],
   "source": [
    "word = \"egg\""
   ]
  },
  {
   "cell_type": "code",
   "execution_count": 4,
   "id": "67ea0b11",
   "metadata": {},
   "outputs": [
    {
     "name": "stdout",
     "output_type": "stream",
     "text": [
      "egg\n"
     ]
    }
   ],
   "source": [
    "print (word)"
   ]
  },
  {
   "cell_type": "code",
   "execution_count": 5,
   "id": "b295c320",
   "metadata": {},
   "outputs": [
    {
     "name": "stdout",
     "output_type": "stream",
     "text": [
      "word is egg\n"
     ]
    }
   ],
   "source": [
    "print(f\"word is {word}\")"
   ]
  },
  {
   "cell_type": "code",
   "execution_count": 6,
   "id": "97be625d",
   "metadata": {
    "scrolled": true
   },
   "outputs": [
    {
     "name": "stdout",
     "output_type": "stream",
     "text": [
      "word is egg\n"
     ]
    }
   ],
   "source": [
    "print(f\"word is {word[0:3]}\")"
   ]
  },
  {
   "cell_type": "code",
   "execution_count": 7,
   "id": "c2a91fe9",
   "metadata": {
    "scrolled": true
   },
   "outputs": [
    {
     "name": "stdout",
     "output_type": "stream",
     "text": [
      "word is e\n"
     ]
    }
   ],
   "source": [
    "print(f\"word is {word[0:1]}\")"
   ]
  },
  {
   "cell_type": "code",
   "execution_count": 15,
   "id": "97373316",
   "metadata": {
    "scrolled": true
   },
   "outputs": [
    {
     "name": "stdout",
     "output_type": "stream",
     "text": [
      "word is egg\n"
     ]
    }
   ],
   "source": [
    "print(f\"word is {word[0:]}\")"
   ]
  },
  {
   "cell_type": "code",
   "execution_count": 13,
   "id": "8720ebfc",
   "metadata": {},
   "outputs": [
    {
     "name": "stdout",
     "output_type": "stream",
     "text": [
      "Number is 100.00\n"
     ]
    }
   ],
   "source": [
    "number = 100\n",
    "print(f\"Number is {number:05.2f}\")"
   ]
  },
  {
   "cell_type": "code",
   "execution_count": null,
   "id": "0a7e4adb",
   "metadata": {},
   "outputs": [],
   "source": []
  }
 ],
 "metadata": {
  "kernelspec": {
   "display_name": "Python 3",
   "language": "python",
   "name": "python3"
  },
  "language_info": {
   "codemirror_mode": {
    "name": "ipython",
    "version": 3
   },
   "file_extension": ".py",
   "mimetype": "text/x-python",
   "name": "python",
   "nbconvert_exporter": "python",
   "pygments_lexer": "ipython3",
   "version": "3.9.1"
  }
 },
 "nbformat": 4,
 "nbformat_minor": 5
}
